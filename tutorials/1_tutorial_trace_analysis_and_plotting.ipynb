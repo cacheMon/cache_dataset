{
 "cells": [
  {
   "cell_type": "markdown",
   "id": "156c3594",
   "metadata": {},
   "source": [
    "# Using libCacheSim to analyze and plot the trace\n",
    "\n",
    "In this tutorial, we show how to use [trace analysis tool](https://github.com/1a1a11a/libCacheSim/blob/develop/doc/quickstart_traceAnalyzer.md) from libCacheSim  to analyze and plot the trace.\n",
    "\n",
    "libCacheSim provides a set of tools to help you analyze traces. After building the project, you can find a binary called traceAnalyzer. This doc shows how to use the tool. If you are interested, the source code is located in the `bin/traceAnalyzer/` and `traceAnalyzer` directory."
   ]
  },
  {
   "cell_type": "markdown",
   "id": "13ef6398",
   "metadata": {
    "vscode": {
     "languageId": "plaintext"
    }
   },
   "source": [
    "## Step 0. Install libCacheSim and download example dataset\n",
    "\n",
    "Run script to install libCacheSim and download example dataset."
   ]
  },
  {
   "cell_type": "code",
   "execution_count": null,
   "id": "bf481083",
   "metadata": {},
   "outputs": [],
   "source": [
    "from IPython.display import clear_output\n",
    "import subprocess\n",
    "\n",
    "subprocess.run([\"bash\", \"install.sh\"])\n",
    "subprocess.run([\"bash\", \"download.sh\"])\n",
    "\n",
    "# Install the required packages\n",
    "%pip install -r  \"./libCacheSim/requirements.txt\"\n",
    "%pip install scipy\n",
    "\n",
    "clear_output()"
   ]
  },
  {
   "cell_type": "markdown",
   "id": "5956a266",
   "metadata": {
    "vscode": {
     "languageId": "plaintext"
    }
   },
   "source": [
    "## Step 1. Obtain trace statistics\n",
    "\n",
    "#### Usage: \n",
    "```\n",
    "# ./bin/traceAnalyzer --help for a list of tasks and options\n",
    "./bin/traceAnalyzer PATH_TO_TRACE traceType [--task1] [--task2]\n",
    "```\n",
    "\n",
    "#### A list of tasks:\n",
    "* `--common`: run all common tasks, including `--stat`, `--traceStat`, `--reqRate`, `--size`, `--reuse`, `--popularity`\n",
    "* `--all`: run all tasks\n",
    "* `--accessPattern`: generate access pattern data for plotting using [scripts/traceAnalysis/access_pattern.py](/scripts/traceAnalysis/access_pattern.py)\n",
    "* `--reqRate`: generate request rate data for plotting using [scripts/traceAnalysis/req_rate.py](/scripts/traceAnalysis/req_rate.py)\n",
    "* `--size`: generate size distribution data for plotting using [scripts/traceAnalysis/size.py](/scripts/traceAnalysis/size.py) and [scripts/traceAnalysis/size_heatmap.py](/scripts/traceAnalysis/size_heatmap.py)\n",
    "* `--reuse`: generate reuse distribution data for plotting using [scripts/traceAnalysis/reuse.py](/scripts/traceAnalysis/reuse.py) and [scripts/traceAnalysis/reuse_heatmap.py](/scripts/traceAnalysis/reuse_heatmap.py)\n",
    "* `--popularity`: generate popularity data for plotting using [scripts/traceAnalysis/popularity.py](/scripts/traceAnalysis/popularity.py)\n",
    "* `--popularityDecay`: generate popularity data for plotting using [scripts/traceAnalysis/popularity_decay.py](/scripts/traceAnalysis/popularity_decay.py)\n"
   ]
  },
  {
   "cell_type": "code",
   "execution_count": 2,
   "id": "2a8969e8",
   "metadata": {},
   "outputs": [],
   "source": [
    "import subprocess"
   ]
  },
  {
   "cell_type": "code",
   "execution_count": 3,
   "id": "53ce30e9",
   "metadata": {},
   "outputs": [
    {
     "name": "stdout",
     "output_type": "stream",
     "text": [
      "dat: ./w89.oracleGeneral.bin.zst\n",
      "number of requests: 3625918, number of objects: 770712\n",
      "number of req GiB: 62.0231, number of obj GiB: 21.8123\n",
      "compulsory miss ratio (req/byte): 0.2126/0.3517\n",
      "object size weighted by req/obj: 18366/30388\n",
      "frequency mean: 4.7046\n",
      "time span: 607175(7.0275 day)\n",
      "op: nop:3625918(1.0000), get:0(0.0000), gets:0(0.0000), set:0(0.0000), add:0(0.0000), cas:0(0.0000), replace:0(0.0000), append:0(0.0000), prepend:0(0.0000), delete:0(0.0000), incr:0(0.0000), decr:0(0.0000), read:0(0.0000), write:0(0.0000), update:0(0.0000), invalid:0(0.0000), request rate min 1.7667 req/s, max 734.5167 req/s, window 300s\n",
      "object rate min 0.5967 obj/s, max 706.8200 obj/s, window 300s\n",
      "popularity: Zipf linear fitting slope=0.8560, intercept=-1.0000, R2=-1.0000\n",
      "X-hit (number of obj accessed X times): 420771(0.5460), 171712(0.2228), 28892(0.0375), 18226(0.0236), 12638(0.0164), 11142(0.0145), 10419(0.0135), 26592(0.0345), \n",
      "freq (fraction) of the most popular obj: 108376(0.0299), 108373(0.0299), 33166(0.0091), 33163(0.0091), 22042(0.0061), 17090(0.0047), 16929(0.0047), 16026(0.0044), \n",
      "\n"
     ]
    },
    {
     "data": {
      "text/plain": [
       "CompletedProcess(args=['./libCacheSim/_build/bin/traceAnalyzer', './w89.oracleGeneral.bin.zst', 'oracleGeneral', '--all'], returncode=0)"
      ]
     },
     "execution_count": 3,
     "metadata": {},
     "output_type": "execute_result"
    }
   ],
   "source": [
    "dataname = \"w89.oracleGeneral.bin.zst\"\n",
    "\n",
    "subprocess.run([\"./libCacheSim/_build/bin/traceAnalyzer\", f\"./{dataname}\", \"oracleGeneral\", \"--all\"])"
   ]
  },
  {
   "cell_type": "markdown",
   "id": "a05fcb33",
   "metadata": {},
   "source": [
    "## Step 2. Plot the trace\n",
    "\n",
    "### Plot trace statistics and visualize the trace\n",
    "We provide plot scripts in [scripts/traceAnalysis/](/scripts/traceAnalysis/) to help you plot the trace statistics.\n",
    "After generating plot data, we can plot access pattern, request rate, size, reuse, and popularity using the following commands:"
   ]
  },
  {
   "cell_type": "markdown",
   "id": "ad028c17",
   "metadata": {},
   "source": [
    "\n",
    "#### Access pattern\n"
   ]
  },
  {
   "cell_type": "code",
   "execution_count": 4,
   "id": "33240208",
   "metadata": {},
   "outputs": [
    {
     "data": {
      "text/plain": [
       "CompletedProcess(args=['python', 'libCacheSim/scripts/traceAnalysis/access_pattern.py', 'w89.oracleGeneral.bin.zst.accessVtime'], returncode=0)"
      ]
     },
     "execution_count": 4,
     "metadata": {},
     "output_type": "execute_result"
    }
   ],
   "source": [
    "subprocess.run([\"python\", \"libCacheSim/scripts/traceAnalysis/access_pattern.py\", f\"{dataname}.accessRtime\"])\n",
    "subprocess.run([\"python\", \"libCacheSim/scripts/traceAnalysis/access_pattern.py\", f\"{dataname}.accessVtime\"])"
   ]
  },
  {
   "cell_type": "markdown",
   "id": "a91e1bb5",
   "metadata": {},
   "source": [
    "<div style=\"display: flex; justify-content: center; align-items: center;\">\n",
    "<img src=\"./figure/w89_access_rt.png\" alt=\"access pattern w92_r\" width=\"40%\">\n",
    "&nbsp;&nbsp;&nbsp;&nbsp;&nbsp;&nbsp;&nbsp;&nbsp;&nbsp;&nbsp;&nbsp;&nbsp;\n",
    "<img src=\"./figure/w89_access_vt.png\" alt=\"access pattern w92_v\" width=\"40%\">\n",
    "</div>\n",
    "<div style=\"text-align: center; color: grey;\">\n",
    "A block cache workload (w89). The left column shows wall clock time, this workload is mostly driven by a daily scan; the right column shows virtual (request count) time. \n",
    "</div>"
   ]
  },
  {
   "cell_type": "markdown",
   "id": "5632ba76",
   "metadata": {},
   "source": [
    "Here are more examples.\n",
    "\n",
    "\n",
    "#### Request rate\n",
    "```bash\n",
    "# this is only supported for traces that have (wall clock) time field\n",
    "python3 scripts/traceAnalysis/req_rate.py ${dataname}.reqRate_w300\n",
    "```\n",
    "\n",
    "Some example plots are shown below:\n",
    "<div style=\"display: flex; justify-content: center; align-items: center;\">\n",
    "<img src=\"https://raw.githubusercontent.com/1a1a11a/libCacheSim/refs/heads/develop/doc/plot/w92_reqRate.svg\" alt=\"request rate w92\" width=\"40%\">\n",
    "&nbsp;&nbsp;&nbsp;&nbsp;&nbsp;&nbsp;&nbsp;&nbsp;&nbsp;&nbsp;&nbsp;&nbsp;\n",
    "<img src=\"https://raw.githubusercontent.com/1a1a11a/libCacheSim/refs/heads/develop/doc/plot/twitter_cluster52_10m_reqRate.svg\" alt=\"request rate twitter\" width=\"40%\">\n",
    "</div>\n",
    "<div style=\"text-align: center; color: grey;\">\n",
    "Left: a block cache workload (w92), right: the first 10m requests of the Twitter cluster52 trace. <br>\n",
    "The block workload has a daily request spike, while the Twitter workload is too short to observe a pattern. \n",
    "</div>\n",
    "<br>\n",
    "\n",
    "\n",
    "#### Size distribution\n",
    "```bash\n",
    "# this is only supported for traces that have object size\n",
    "python3 scripts/traceAnalysis/size.py ${dataname}.size\n",
    "```\n",
    "\n",
    "Some example plots are shown below:\n",
    "<div style=\"display: flex; justify-content: center; align-items: center;\">\n",
    "<img src=\"https://raw.githubusercontent.com/1a1a11a/libCacheSim/refs/heads/develop/doc/plot/w92_size.svg\" alt=\"size w92\" width=\"40%\">\n",
    "&nbsp;&nbsp;&nbsp;&nbsp;&nbsp;&nbsp;&nbsp;&nbsp;&nbsp;&nbsp;&nbsp;&nbsp;\n",
    "<img src=\"https://raw.githubusercontent.com/1a1a11a/libCacheSim/refs/heads/develop/doc/plot/twitter_cluster52_10m_size_log.svg\" alt=\"size twitter\" width=\"40%\">\n",
    "</div>\n",
    "<div style=\"text-align: center; color: grey;\">\n",
    "Left: a block cache workload (w92), right: the first 10m requests of the Twitter cluster52 trace. <br>\n",
    "The block workload has most objects being 4 KiB and 64 KiB, while the Twitter workload has most objects being 64 B. <br>\n",
    "The Request curve is weighted by request count, and the Object curve is weighted by object count. \n",
    "</div>\n",
    "<br>\n",
    "\n",
    "\n",
    "#### Reuse distribution\n",
    "This is the time since the last access of the object.\n",
    "\n",
    "```bash\n",
    "python3 scripts/traceAnalysis/reuse.py ${dataname}.reuse\n",
    "```\n",
    "\n",
    "Some example plots are shown below \n",
    "<div style=\"display: flex; justify-content: center; align-items: center;\">\n",
    "<img src=\"https://raw.githubusercontent.com/1a1a11a/libCacheSim/refs/heads/develop/doc/plot/w92_reuse_rt_log.svg\" alt=\"reuse w92_r\" width=\"40%\">\n",
    "&nbsp;&nbsp;&nbsp;&nbsp;&nbsp;&nbsp;&nbsp;&nbsp;&nbsp;&nbsp;&nbsp;&nbsp;\n",
    "<img src=\"https://raw.githubusercontent.com/1a1a11a/libCacheSim/refs/heads/develop/doc/plot/w92_reuse_vt_log.svg\" alt=\"reuse w92_v\" width=\"40%\">\n",
    "</div>\n",
    "<div style=\"text-align: center; color: grey;\">\n",
    "A block cache workload (w92). The left column shows wall clock time, the right column shows virtual (request count) time. Most reuses happen around one day.\n",
    "</div>\n",
    "<br>\n",
    "\n",
    "<div style=\"display: flex; justify-content: center; align-items: center;\">\n",
    "<img src=\"https://raw.githubusercontent.com/1a1a11a/libCacheSim/refs/heads/develop/doc/plot/twitter_cluster52_10m_reuse_rt.svg\" alt=\"reuse twitter_r\" width=\"40%\">\n",
    "&nbsp;&nbsp;&nbsp;&nbsp;&nbsp;&nbsp;&nbsp;&nbsp;&nbsp;&nbsp;&nbsp;&nbsp;\n",
    "<img src=\"https://raw.githubusercontent.com/1a1a11a/libCacheSim/refs/heads/develop/doc/plot/twitter_cluster52_10m_reuse_vt_log.svg\" alt=\"reuse twitter_v\" width=\"40%\">\n",
    "</div>\n",
    "\n",
    "<div style=\"text-align: center; color: grey;\">\n",
    "The first 10m requests of the Twitter cluster52 trace. The left column shows wall clock time, the right column shows virtual (request count) time. Most requests happen soon after the object is accessed. \n",
    "</div>\n",
    "<br>\n",
    "\n",
    "#### Popularity\n",
    "```bash\n",
    "# the popularity skewness ($\\alpha$) is in the output of traceAnalyzer\n",
    "# this plots the request count/freq over object rank\n",
    "# note that measuring popularity plot does not make sense for very small traces and some block workloads  \n",
    "# and note that popularity is highly affected by the layer of the cache hierarchy\n",
    "python3 scripts/traceAnalysis/popularity.py ${dataname}.popularity\n",
    "```\n",
    "\n",
    "Some example plots are shown below:\n",
    "<div style=\"display: flex; justify-content: center; align-items: center;\">\n",
    "<img src=\"https://raw.githubusercontent.com/1a1a11a/libCacheSim/refs/heads/develop/doc/plot/twitter_cluster52_10m_pop_rank.svg\" alt=\"popularity twitter\" width=\"40%\">\n",
    "</div>\n",
    "<div style=\"text-align: center; color: grey;\">\n",
    "The first 10m requests of the Twitter cluster52 trace. <br>\n",
    "</div>\n",
    "<br>\n",
    "\n",
    "\n",
    "\n",
    "\n",
    "\n",
    "#### Size distribution heatmap\n",
    "This and the following plots are more expensive plots that require more CPU cycles and DRAM usage to generate. \n",
    "This plot requires wall clock time and object size in the trace. \n",
    "This is a heatmap of the size distribution of the trace. The x-axis is the clock time, and the y-axis is the size. The color represents the number of requests having a certain size range at that time. The darker the color, the more requests of the certain size at that time. \n",
    "The heatmap is generated using the following command:\n",
    "\n",
    "```bash\n",
    "python3 scripts/traceAnalysis/size_heatmap.py ${dataname}.sizeWindow_w300\n",
    "```\n",
    "\n",
    "Some example plots are shown below:\n",
    "<div style=\"display: flex; justify-content: center; align-items: center;\">\n",
    "<img src=\"https://raw.githubusercontent.com/1a1a11a/libCacheSim/refs/heads/develop/doc/plot/w92_size_heatmap_req.svg\" alt=\"popularity w92\" width=\"40%\">\n",
    "&nbsp;&nbsp;&nbsp;&nbsp;&nbsp;&nbsp;&nbsp;&nbsp;&nbsp;&nbsp;&nbsp;&nbsp;\n",
    "<img src=\"https://raw.githubusercontent.com/1a1a11a/libCacheSim/refs/heads/develop/doc/plot/twitter_cluster52_10m_size_heatmap_req.svg\" alt=\"popularity twitter\" width=\"40%\">\n",
    "</div>\n",
    "<div style=\"text-align: center; color: grey;\">\n",
    "Left: a block cache workload (w92), right: the first 10m requests of the Twitter cluster52 trace. The two plots show the distribution weighted by request, there are also two figures weighted by object count. <br>\n",
    "</div>\n",
    "<br>\n",
    "\n",
    "\n",
    "#### Reuse distribution heatmap\n",
    "This is a heatmap of the reuse distribution of the trace. The x-axis is the wall clock time, and the y-axis is the reuse time (in seconds) or reuse distance (the number of requests since last access of the object). The color represents the number of requests having the reuse time or reuse distance. \n",
    "The heatmap is generated using the following command:\n",
    "\n",
    "```bash\n",
    "python3 scripts/traceAnalysis/reuse_heatmap.py ${dataname}.reuseWindow_w300\n",
    "```\n",
    "\n",
    "Some example plots are shown below:\n",
    "<div style=\"display: flex; justify-content: center; align-items: center;\">\n",
    "<img src=\"https://raw.githubusercontent.com/1a1a11a/libCacheSim/refs/heads/develop/doc/plot/w92_reuse_heatmap_vt.svg\" alt=\"popularity w92\" width=\"40%\">\n",
    "&nbsp;&nbsp;&nbsp;&nbsp;&nbsp;&nbsp;&nbsp;&nbsp;&nbsp;&nbsp;&nbsp;&nbsp;\n",
    "<img src=\"https://raw.githubusercontent.com/1a1a11a/libCacheSim/refs/heads/develop/doc/plot/twitter_cluster52_10m_reuse_heatmap_vt.svg\" alt=\"popularity twitter\" width=\"40%\">\n",
    "</div>\n",
    "<div style=\"text-align: center; color: grey;\">\n",
    "Left: a block cache workload (w92), right: the first 10m requests of the Twitter cluster52 trace. <br>\n",
    "</div>\n",
    "<br>\n",
    "\n",
    "\n",
    "#### popularity decay\n",
    "There are two versions of the plots, one is line plot, and the other is a heatmap.\n",
    "\n",
    "```bash\n",
    "# this requires a long trace (e.g., 7 day) to generate a meaningful plot\n",
    "# and most block workloads do not have enough requests to plot meaningful popularity decay\n",
    "python3 scripts/traceAnalysis/popularity_decay.py ${dataname}.popularityDecay_w300_obj\n",
    "```"
   ]
  }
 ],
 "metadata": {
  "kernelspec": {
   "display_name": ".venv",
   "language": "python",
   "name": "python3"
  },
  "language_info": {
   "codemirror_mode": {
    "name": "ipython",
    "version": 3
   },
   "file_extension": ".py",
   "mimetype": "text/x-python",
   "name": "python",
   "nbconvert_exporter": "python",
   "pygments_lexer": "ipython3",
   "version": "3.10.12"
  }
 },
 "nbformat": 4,
 "nbformat_minor": 5
}
