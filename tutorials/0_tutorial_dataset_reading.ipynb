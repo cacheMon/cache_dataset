{
 "cells": [
  {
   "cell_type": "markdown",
   "id": "dd7a00c6",
   "metadata": {},
   "source": [
    "# Using libCacheSim to read the dataset\n",
    "\n",
    "\n",
    "We provided a tool `tracePrint` that you can use to print the trace in plain text along with libCacheSim.\n"
   ]
  },
  {
   "cell_type": "markdown",
   "id": "f2decaa9",
   "metadata": {},
   "source": [
    "## Step 0. Install libCacheSim\n",
    "\n",
    "Run script to install libCacheSim, download example dataset, and check the usage of `tracePrint`."
   ]
  },
  {
   "cell_type": "code",
   "execution_count": 18,
   "id": "99dec0e6",
   "metadata": {},
   "outputs": [],
   "source": [
    "from IPython.display import clear_output\n",
    "import subprocess\n",
    "\n",
    "subprocess.run([\"bash\", \"install.sh\"])\n",
    "subprocess.run([\"bash\", \"download.sh\"])\n",
    "\n",
    "clear_output()"
   ]
  },
  {
   "cell_type": "code",
   "execution_count": 19,
   "id": "38f030b1",
   "metadata": {},
   "outputs": [
    {
     "name": "stdout",
     "output_type": "stream",
     "text": [
      "Usage: tracePrint [-?] [-o /path/output] [-s 1]\n",
      "            [-t \"obj-id-col=1,header=true\"] [-f lcs] [-n -1]\n",
      "            [--ignore-obj-size=false] [--output=/path/output]\n",
      "            [--sample-ratio=1]\n",
      "            [--trace-type-params=\"obj-id-col=1,header=true\"]\n",
      "            [--output-format=lcs] [--output-txt=false]\n",
      "            [--remove-size-change=false] [--field-delimiter=,] [--num-req=-1]\n",
      "            [--obj-id-32bit=0] [--obj-id-only=0] [--print-stat=false]\n",
      "            [--filter-size=0.1] [--filter-type=FIFO] [--help] [--usage]\n",
      "            trace_path trace_type\n"
     ]
    },
    {
     "data": {
      "text/plain": [
       "CompletedProcess(args=['./libCacheSim/_build/bin/tracePrint', '--usage'], returncode=0)"
      ]
     },
     "execution_count": 19,
     "metadata": {},
     "output_type": "execute_result"
    }
   ],
   "source": [
    "subprocess.run([\"./libCacheSim/_build/bin/tracePrint\", \"--usage\"])"
   ]
  },
  {
   "cell_type": "markdown",
   "id": "7f2f74b8",
   "metadata": {},
   "source": [
    "## Step 1. Read the trace\n",
    "\n",
    "Use `--num-req` to control the number of printed requsts."
   ]
  },
  {
   "cell_type": "code",
   "execution_count": 20,
   "id": "d9bda6ef",
   "metadata": {},
   "outputs": [
    {
     "name": "stdout",
     "output_type": "stream",
     "text": [
      "# time,object,size,next_access_vtime\n",
      "7736503,6084968,32768,327633\n",
      "7736503,6028808,4096,90\n",
      "7736503,6028784,4096,91\n",
      "7736504,1206848,2560,87\n",
      "7736508,18038224,4096,107\n",
      "7736512,29338904,4096,454\n",
      "7736512,29338952,4096,455\n",
      "7736513,6085032,32768,1021913\n",
      "7736513,6028800,4096,93\n",
      "7736513,6028792,4096,166\n"
     ]
    },
    {
     "name": "stderr",
     "output_type": "stream",
     "text": [
      "\u001b[32m[INFO]  07-06-2025 22:36:52 cli_parser.cpp:220  (tid=139921481394112): trace path: ./w89.oracleGeneral.bin.zst, trace_type ORACLE_GENERAL_TRACE, num requests to process: 10\n",
      "\u001b[0m"
     ]
    },
    {
     "data": {
      "text/plain": [
       "CompletedProcess(args=['./libCacheSim/_build/bin/tracePrint', '--num-req=10', './w89.oracleGeneral.bin.zst', 'oracleGeneral'], returncode=0)"
      ]
     },
     "execution_count": 20,
     "metadata": {},
     "output_type": "execute_result"
    }
   ],
   "source": [
    "subprocess.run([\"./libCacheSim/_build/bin/tracePrint\", \"--num-req=10\", \"./w89.oracleGeneral.bin.zst\", \"oracleGeneral\"])"
   ]
  }
 ],
 "metadata": {
  "kernelspec": {
   "display_name": ".venv",
   "language": "python",
   "name": "python3"
  },
  "language_info": {
   "codemirror_mode": {
    "name": "ipython",
    "version": 3
   },
   "file_extension": ".py",
   "mimetype": "text/x-python",
   "name": "python",
   "nbconvert_exporter": "python",
   "pygments_lexer": "ipython3",
   "version": "3.10.12"
  }
 },
 "nbformat": 4,
 "nbformat_minor": 5
}
