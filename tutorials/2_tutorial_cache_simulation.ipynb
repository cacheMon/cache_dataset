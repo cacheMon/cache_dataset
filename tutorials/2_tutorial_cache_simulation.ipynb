{
 "cells": [
  {
   "cell_type": "markdown",
   "id": "6b1b1e5b",
   "metadata": {},
   "source": [
    "# "
   ]
  },
  {
   "cell_type": "markdown",
   "id": "6a2d07db",
   "metadata": {},
   "source": [
    "# Using libCacheSim to run cache simulation\n",
    "\n",
    "This tutorial will show you how to run cache simulation with `cachesim`.\n",
    "\n",
    "\n",
    "cachesim is a tool provided by libCacheSim to quickly run some cache simulations, it supports \n",
    "* a variety of eviction algorithms such as FIFO, LRU, LFU, ARC, SLRU, LeCaR, CACHEUS, Hyperbolic, LHD, TinyLFU, Belady, LRB and GLCache. \n",
    "* a variety of admission algorithms such as size, bloomFilter and adaptSize. \n",
    "* text, csv trace as well as binary traces. \n",
    "* automatic multi-threaded simulations. \n",
    "\n",
    "Meanwhile, cachesim has high-performance with low resource usages. "
   ]
  },
  {
   "cell_type": "markdown",
   "id": "dfd1dc8d",
   "metadata": {},
   "source": [
    "## Step 0. Install libCacheSim and download example dataset\n",
    "\n",
    "Run script to install libCacheSim and download example dataset."
   ]
  },
  {
   "cell_type": "code",
   "execution_count": 1,
   "id": "8131c7a2",
   "metadata": {},
   "outputs": [],
   "source": [
    "from IPython.display import clear_output\n",
    "import subprocess\n",
    "\n",
    "subprocess.run([\"bash\", \"install.sh\"])\n",
    "subprocess.run([\"bash\", \"download.sh\"])\n",
    "\n",
    "# Install the required packages\n",
    "%pip install -r  \"./libCacheSim/requirements.txt\"\n",
    "%pip install scipy\n",
    "\n",
    "clear_output()"
   ]
  },
  {
   "cell_type": "markdown",
   "id": "ef530dad",
   "metadata": {},
   "source": [
    "## Step 1. Basic Usage\n",
    "```\n",
    "./cachesim trace_path trace_type eviction_algo cache_size [OPTION...]\n",
    "```\n",
    "\n",
    "use `./cachesim --help` to get more information."
   ]
  },
  {
   "cell_type": "code",
   "execution_count": 2,
   "id": "3cccc8d7",
   "metadata": {},
   "outputs": [
    {
     "name": "stdout",
     "output_type": "stream",
     "text": [
      "Usage: cachesim [OPTION...] trace_path trace_type eviction_algo cache_size\n",
      "example: ./cachesim /trace/path csv LRU 100MB\n",
      "\n",
      "trace can be zstd compressed\n",
      "cache_size is in byte, but also support KB/MB/GB\n",
      "supported trace_type: txt/csv/twr/vscsi/oracleGeneralBin\n",
      "supported eviction_algo: LRU/LFU/FIFO/ARC/LeCaR/Cacheus\n",
      "print-head-req: Print the first few requests when simulating start\n",
      "\n",
      " trace reader related parameters\n",
      "\n",
      "  -n, --num-req=-1           Num of requests to process, default -1 means all\n",
      "                             requests in the trace\n",
      "  -s, --sample-ratio=1       Sample ratio, 1 means no sampling, 0.01 means\n",
      "                             sample 1% of objects\n",
      "  -t, --trace-type-params=\"obj-id-col=1;delimiter=,\"\n",
      "                             Parameters used for csv trace, e.g.,\n",
      "                             \"obj-id-col=1;delimiter=,\"\n",
      "\n",
      " cache related parameters:\n",
      "\n",
      "      --admission-params=\"prob=0.8\"\n",
      "                             params for admission algorithm\n",
      "  -a, --admission=bloom-filter   Admission algorithm: size/bloom-filter/prob\n",
      "  -e, --eviction-params=\"n-seg=4\"\n",
      "                             optional params for each eviction algorithm, e.g.,\n",
      "                             n-seg=4\n",
      "      --prefetch-params=\"block-size=65536\"\n",
      "                             optional params for each prefetching algorithm,\n",
      "                             e.g., block-size=65536\n",
      "  -p, --prefetch=Mithril     Prefetching algorithm: Mithril/OBL/PG/AMP\n",
      "\n",
      " Other options:\n",
      "      --ignore-obj-size=false   specify to ignore the object size from the\n",
      "                             trace\n",
      "      --num-thread=16        Number of threads if running when using default\n",
      "                             cache sizes\n",
      "  -o, --output=output        Output path\n",
      "\n",
      " Other less common options:\n",
      "      --consider-obj-metadata=false\n",
      "                             Whether consider per object metadata size in the\n",
      "                             simulated cache\n",
      "      --print-head-req=false Print the first few requests\n",
      "      --report-interval=3600 how often to report stat when running one cache\n",
      "      --use-ttl=false        specify to use ttl from the trace\n",
      "  -v, --verbose=1            Produce verbose output\n",
      "      --warmup-sec=0         warm up time in seconds\n",
      "\n",
      "  -?, --help                 Give this help list\n",
      "      --usage                Give a short usage message\n",
      "  -V, --version              Print program version\n",
      "\n",
      "Mandatory or optional arguments to long options are also mandatory or optional\n",
      "for any corresponding short options.\n",
      "\n",
      "Report bugs to https://groups.google.com/g/libcachesim.\n"
     ]
    },
    {
     "data": {
      "text/plain": [
       "CompletedProcess(args=['./libCacheSim/_build/bin/cachesim', '--help'], returncode=0)"
      ]
     },
     "execution_count": 2,
     "metadata": {},
     "output_type": "execute_result"
    }
   ],
   "source": [
    "subprocess.run([\"./libCacheSim/_build/bin/cachesim\", \"--help\"])"
   ]
  },
  {
   "cell_type": "markdown",
   "id": "237cb8d7",
   "metadata": {},
   "source": [
    "\n",
    "### Run a single cache simulation\n",
    "\n",
    "Run the example vscsi trace with LRU eviction algorithm and 1GB cache size. \n",
    "Note that vscsi is a trace format, we also support csv traces. \n",
    "\n",
    "```bash\n",
    "# Note that no space between the cache size and the unit, unit is not case sensitive\n",
    "./cachesim ../data/trace.vscsi vscsi lru 1gb \n",
    "```\n"
   ]
  },
  {
   "cell_type": "code",
   "execution_count": 3,
   "id": "8351a5bf",
   "metadata": {},
   "outputs": [
    {
     "name": "stderr",
     "output_type": "stream",
     "text": [
      "\u001b[32m[INFO]  07-06-2025 22:45:15 cli_parser.c:558  (tid=140178317365376): trace path: ./w89.oracleGeneral.bin.zst, trace_type ORACLE_GENERAL_TRACE, ofilepath result/w89.oracleGeneral.bin.zst.cachesim, 40 threads, warmup -1 sec, total 1 algo x 1 size = 1 caches, lru\n",
      "\u001b[0m\u001b[36m[DEBUG] 07-06-2025 22:45:15 request.h:125  (tid=140178317365376): req clock_time 7736503, id 6084968, size 32768, op nop, valid 1\n",
      "\u001b[0m\u001b[36m[DEBUG] 07-06-2025 22:45:15 request.h:125  (tid=140178317365376): req clock_time 7736503, id 6028808, size 4096, op nop, valid 1\n",
      "\u001b[0m\u001b[32m[INFO]  07-06-2025 22:45:15    sim.c:61   (tid=140178317365376): w89.oracleGeneral.bin.zst LRU 24.00 hour: 607515 requests, miss ratio 0.4002, interval miss ratio 0.4002\n",
      "\u001b[0m\u001b[32m[INFO]  07-06-2025 22:45:15    sim.c:61   (tid=140178317365376): w89.oracleGeneral.bin.zst LRU 48.00 hour: 967548 requests, miss ratio 0.3589, interval miss ratio 0.2893\n",
      "\u001b[0m\u001b[32m[INFO]  07-06-2025 22:45:15    sim.c:61   (tid=140178317365376): w89.oracleGeneral.bin.zst LRU 72.00 hour: 1304200 requests, miss ratio 0.3377, interval miss ratio 0.2766\n",
      "\u001b[0m\u001b[32m[INFO]  07-06-2025 22:45:15    sim.c:61   (tid=140178317365376): w89.oracleGeneral.bin.zst LRU 96.00 hour: 1684272 requests, miss ratio 0.3297, interval miss ratio 0.3024\n",
      "\u001b[0m\u001b[32m[INFO]  07-06-2025 22:45:15    sim.c:61   (tid=140178317365376): w89.oracleGeneral.bin.zst LRU 120.00 hour: 2037251 requests, miss ratio 0.3246, interval miss ratio 0.3005\n",
      "\u001b[0m\u001b[32m[INFO]  07-06-2025 22:45:15    sim.c:61   (tid=140178317365376): w89.oracleGeneral.bin.zst LRU 144.00 hour: 2383123 requests, miss ratio 0.3163, interval miss ratio 0.2671\n",
      "\u001b[0m"
     ]
    },
    {
     "name": "stdout",
     "output_type": "stream",
     "text": [
      "./w89.oracleGeneral.bin.zst LRU cache size     1GiB,          3625918 req, miss ratio 0.3859, throughput 4.40 MQPS\n"
     ]
    },
    {
     "name": "stderr",
     "output_type": "stream",
     "text": [
      "\u001b[32m[INFO]  07-06-2025 22:45:16    sim.c:61   (tid=140178317365376): w89.oracleGeneral.bin.zst LRU 168.00 hour: 3619133 requests, miss ratio 0.3864, interval miss ratio 0.5216\n",
      "\u001b[0m"
     ]
    },
    {
     "data": {
      "text/plain": [
       "CompletedProcess(args=['./libCacheSim/_build/bin/cachesim', './w89.oracleGeneral.bin.zst', 'oracleGeneral', 'lru', '1gb'], returncode=0)"
      ]
     },
     "execution_count": 3,
     "metadata": {},
     "output_type": "execute_result"
    }
   ],
   "source": [
    "subprocess.run([\"./libCacheSim/_build/bin/cachesim\", \"./w89.oracleGeneral.bin.zst\", \"oracleGeneral\", \"lru\", \"1gb\"])"
   ]
  },
  {
   "cell_type": "markdown",
   "id": "8183af0b",
   "metadata": {},
   "source": [
    "\n",
    "### Run multiple cache simulations\n",
    "```bash\n",
    "# Note that there is no space between the cache sizes\n",
    "./cachesim ../data/trace.vscsi vscsi lru 1mb,16mb,256mb,8gb\n",
    "\n",
    "# Or you can quote the cache sizes\n",
    "./cachesim ../data/trace.vscsi vscsi lru \"1mb, 16mb, 256mb, 8gb\"\n",
    "\n",
    "# besides absolute cache size, you can also use fraction of working set size\n",
    "./cachesim ../data/trace.vscsi vscsi lru 0.001,0.01,0.1,0.2\n",
    "\n",
    "# besides using byte as the unit, you can also treat all objects having the same size, and the size is the number of objects\n",
    "./cachesim ../data/trace.vscsi vscsi lru 1000,16000 --ignore-obj-size 1\n",
    "\n",
    "# new feature: you can run a few algorithms in parallel by concatenating the algorithms\n",
    "./cachesim ../data/trace.vscsi vscsi fifo,lru,arc,qdlp 0.01 --ignore-obj-size 1\n",
    "\n",
    "# run 4*4 simulations in parallel (no more than n_thread at the same time)\n",
    "./cachesim ../data/trace.vscsi vscsi fifo,lru,arc,qdlp 0.01,0.05,0.1,0.2 --ignore-obj-size 1\n",
    "```\n"
   ]
  },
  {
   "cell_type": "code",
   "execution_count": 4,
   "id": "cea6f108",
   "metadata": {},
   "outputs": [
    {
     "name": "stderr",
     "output_type": "stream",
     "text": [
      "\u001b[32m[INFO]  07-06-2025 22:45:16 cli_reader_utils.c:259  (tid=140654585626752): calculating working set size...\n",
      "\u001b[0m\u001b[32m[INFO]  07-06-2025 22:45:16 cli_reader_utils.c:288  (tid=140654585626752): working set size: 770712 object 770712 byte\n",
      "\u001b[0m\u001b[32m[INFO]  07-06-2025 22:45:19 cli_parser.c:558  (tid=140654585626752): trace path: ./w89.oracleGeneral.bin.zst, trace_type ORACLE_GENERAL_TRACE, ofilepath result/w89.oracleGeneral.bin.zst.cachesim, 40 threads, warmup -1 sec, total 4 algo x 4 size = 16 caches, fifo, lru, arc, qdlp, ignore object size\n",
      "\u001b[0m\u001b[32m[INFO]  07-06-2025 22:45:19 simulator.c:302  (tid=140654585626752): simulate_with_multi_caches starts computation, num_warmup_req 0, start cache FIFO size 8KiB, end cache QDLP-0.1000-0.9000-Clock2-1 size 151KiB, 16 caches, 40 threads, please wait\n",
      "\u001b[0m"
     ]
    },
    {
     "name": "stdout",
     "output_type": "stream",
     "text": [
      "\n",
      "./w89.oracleGeneral.bin.zst FIFO cache size     7707, 3625918 req, miss ratio 0.4491, byte miss ratio 0.4491\n",
      "./w89.oracleGeneral.bin.zst FIFO cache size    38535, 3625918 req, miss ratio 0.4141, byte miss ratio 0.4141\n",
      "./w89.oracleGeneral.bin.zst FIFO cache size    77071, 3625918 req, miss ratio 0.3788, byte miss ratio 0.3788\n",
      "./w89.oracleGeneral.bin.zst FIFO cache size   154142, 3625918 req, miss ratio 0.2864, byte miss ratio 0.2864\n",
      "./w89.oracleGeneral.bin.zst LRU cache size     7707, 3625918 req, miss ratio 0.4479, byte miss ratio 0.4479\n",
      "./w89.oracleGeneral.bin.zst LRU cache size    38535, 3625918 req, miss ratio 0.4076, byte miss ratio 0.4076\n",
      "./w89.oracleGeneral.bin.zst LRU cache size    77071, 3625918 req, miss ratio 0.3683, byte miss ratio 0.3683\n",
      "./w89.oracleGeneral.bin.zst LRU cache size   154142, 3625918 req, miss ratio 0.2669, byte miss ratio 0.2669\n",
      "./w89.oracleGeneral.bin.zst ARC cache size     7707, 3625918 req, miss ratio 0.4454, byte miss ratio 0.4454\n",
      "./w89.oracleGeneral.bin.zst ARC cache size    38535, 3625918 req, miss ratio 0.3817, byte miss ratio 0.3817\n",
      "./w89.oracleGeneral.bin.zst ARC cache size    77071, 3625918 req, miss ratio 0.3339, byte miss ratio 0.3339\n",
      "./w89.oracleGeneral.bin.zst ARC cache size   154142, 3625918 req, miss ratio 0.2763, byte miss ratio 0.2763\n",
      "./w89.oracleGeneral.bin.zst QDLP-0.1000-0.9000-Clock2-1 cache size     7707, 3625918 req, miss ratio 0.4447, byte miss ratio 0.4447\n",
      "./w89.oracleGeneral.bin.zst QDLP-0.1000-0.9000-Clock2-1 cache size    38535, 3625918 req, miss ratio 0.3789, byte miss ratio 0.3789\n",
      "./w89.oracleGeneral.bin.zst QDLP-0.1000-0.9000-Clock2-1 cache size    77071, 3625918 req, miss ratio 0.3349, byte miss ratio 0.3349\n",
      "./w89.oracleGeneral.bin.zst QDLP-0.1000-0.9000-Clock2-1 cache size   154142, 3625918 req, miss ratio 0.2625, byte miss ratio 0.2625\n"
     ]
    },
    {
     "data": {
      "text/plain": [
       "CompletedProcess(args=['./libCacheSim/_build/bin/cachesim', './w89.oracleGeneral.bin.zst', 'oracleGeneral', 'fifo,lru,arc,qdlp', '0.01,0.05,0.1,0.2', '--ignore-obj-size', '1'], returncode=0)"
      ]
     },
     "execution_count": 4,
     "metadata": {},
     "output_type": "execute_result"
    }
   ],
   "source": [
    "subprocess.run([\"./libCacheSim/_build/bin/cachesim\", \"./w89.oracleGeneral.bin.zst\", \"oracleGeneral\", \"fifo,lru,arc,qdlp\", \"0.01,0.05,0.1,0.2\", \"--ignore-obj-size\", \"1\"])"
   ]
  },
  {
   "cell_type": "markdown",
   "id": "966eb180",
   "metadata": {},
   "source": [
    "### Auto detect cache sizes\n",
    "cachesim can detect the working set of the trace and automatically generate cache sizes at 0.0001, 0.0003, 0.001, 0.003, 0.01, 0.03, 0.1, 0.3 of the working set size. \n",
    "You can enable this feature by setting cache size to 0 or auto.\n",
    "\n",
    "```bash\n",
    "./cachesim ../data/trace.vscsi vscsi lru auto\n",
    "```\n"
   ]
  },
  {
   "cell_type": "code",
   "execution_count": 5,
   "id": "65cb3574",
   "metadata": {},
   "outputs": [
    {
     "name": "stderr",
     "output_type": "stream",
     "text": [
      "\u001b[32m[INFO]  07-06-2025 22:45:23 cli_reader_utils.c:259  (tid=140376279867520): calculating working set size...\n",
      "\u001b[0m\u001b[32m[INFO]  07-06-2025 22:45:24 cli_reader_utils.c:288  (tid=140376279867520): working set size: 770712 object 23420813312 byte\n",
      "\u001b[0m\u001b[32m[INFO]  07-06-2025 22:45:24 cli_parser.c:558  (tid=140376279867520): trace path: ./w89.oracleGeneral.bin.zst, trace_type ORACLE_GENERAL_TRACE, ofilepath result/w89.oracleGeneral.bin.zst.cachesim, 40 threads, warmup -1 sec, total 1 algo x 8 size = 8 caches, lru\n",
      "\u001b[0m\u001b[32m[INFO]  07-06-2025 22:45:24 simulator.c:302  (tid=140376279867520): simulate_with_multi_caches starts computation, num_warmup_req 0, start cache LRU size 22MiB, end cache LRU size 17GiB, 8 caches, 40 threads, please wait\n",
      "\u001b[0m"
     ]
    },
    {
     "name": "stdout",
     "output_type": "stream",
     "text": [
      "\n",
      "./w89.oracleGeneral.bin.zst LRU cache size       22MiB, 3625918 req, miss ratio 0.4781, byte miss ratio 0.5982\n",
      "./w89.oracleGeneral.bin.zst LRU cache size       67MiB, 3625918 req, miss ratio 0.4580, byte miss ratio 0.5858\n",
      "./w89.oracleGeneral.bin.zst LRU cache size      223MiB, 3625918 req, miss ratio 0.4346, byte miss ratio 0.5636\n",
      "./w89.oracleGeneral.bin.zst LRU cache size      670MiB, 3625918 req, miss ratio 0.4039, byte miss ratio 0.5404\n",
      "./w89.oracleGeneral.bin.zst LRU cache size     2233MiB, 3625918 req, miss ratio 0.3356, byte miss ratio 0.4585\n",
      "./w89.oracleGeneral.bin.zst LRU cache size     4467MiB, 3625918 req, miss ratio 0.2483, byte miss ratio 0.4020\n",
      "./w89.oracleGeneral.bin.zst LRU cache size     8934MiB, 3625918 req, miss ratio 0.2225, byte miss ratio 0.3650\n",
      "./w89.oracleGeneral.bin.zst LRU cache size    17868MiB, 3625918 req, miss ratio 0.2160, byte miss ratio 0.3536\n"
     ]
    },
    {
     "data": {
      "text/plain": [
       "CompletedProcess(args=['./libCacheSim/_build/bin/cachesim', './w89.oracleGeneral.bin.zst', 'oracleGeneral', 'lru', 'auto'], returncode=0)"
      ]
     },
     "execution_count": 5,
     "metadata": {},
     "output_type": "execute_result"
    }
   ],
   "source": [
    "subprocess.run([\"./libCacheSim/_build/bin/cachesim\", \"./w89.oracleGeneral.bin.zst\", \"oracleGeneral\", \"lru\", \"auto\"])"
   ]
  },
  {
   "cell_type": "markdown",
   "id": "b78e9294",
   "metadata": {},
   "source": [
    "### Use different eviction algorithms\n",
    "cachesim supports the following algorithms:\n",
    "* [FIFO](./libCacheSim/libCacheSim/cache/eviction/FIFO.c)\n",
    "* [LRU](./libCacheSim/libCacheSim/cache/eviction/LRU.c)\n",
    "* [Clock](./libCacheSim/libCacheSim/cache/eviction/Clock.c)\n",
    "* [LFU](./libCacheSim/libCacheSim/cache/eviction/LFU.c)\n",
    "* [ARC](./libCacheSim/libCacheSim/cache/eviction/ARC.c)\n",
    "* [SLRU](./libCacheSim/libCacheSim/cache/eviction/SLRU.c)\n",
    "* [GDSF](./libCacheSim/libCacheSim/cache/eviction/GDSF.c)\n",
    "* [WTinyLFU](./libCacheSim/libCacheSim/cache/eviction/WTinyLFU.c)\n",
    "* [LeCaR](./libCacheSim/libCacheSim/cache/eviction/LeCaR.c)\n",
    "* [Cacheus](./libCacheSim/libCacheSim/cache/eviction/Cacheus.c)\n",
    "* [Hyperbolic](./libCacheSim/libCacheSim/cache/eviction/Hyperbolic.c)\n",
    "* [LHD](./libCacheSim/libCacheSim/cache/eviction/LHD/LHDInterface.cpp)\n",
    "* [GLCache](./libCacheSim/libCacheSim/cache/eviction/GLCache/GLCache.c)\n",
    "* [Belady](./libCacheSim/libCacheSim/cache/eviction/Belady.c)\n",
    "* [BeladySize](./libCacheSim/libCacheSim/cache/eviction/BeladySize.c)\n",
    "* [QD-LP](./libCacheSim/libCacheSim/cache/eviction/QDLP.c)\n",
    "\n",
    "You can just use the algorithm name as the eviction algorithm parameter, for example  \n",
    "\n",
    "```bash\n",
    "./cachesim ../data/trace.vscsi vscsi lecar auto\n",
    "./cachesim ../data/trace.vscsi vscsi hyperbolic auto\n",
    "./cachesim ../data/trace.vscsi vscsi lhd auto\n",
    "./cachesim ../data/trace.vscsi vscsi glcache auto\n",
    "\n",
    "# belady and beladySize require oracle trace\n",
    "./cachesim ../data/trace.oracleGeneral oracleGeneral beladySize auto\n",
    "```\n",
    "\n",
    "\n",
    "### Use different trace types \n",
    "We have demonstrated the use of cachesim with vscsi trace. We also support csv traces.\n",
    "To use a csv trace, we need to provide the column of *time*, *obj-id*, and *obj-size*. \n",
    "Both time and size are optional, but many algorithms rely on time and size to work properly.\n",
    "The column starts from 1, the first column is 1, the second is 2, etc.\n",
    "Besides the column information, a csv reader also requires the delimiter and whether the csv file has a header. \n",
    "cachesim builds in a simple delimiter and header detector, if the detected result is not correct, you can provide the correct information using `delimiter=,`, `has-header=true`.\n",
    "\n",
    "\n",
    "```bash\n",
    "# note that the parameters are separated by comma and quoted\n",
    "./cachesim ../data/trace.csv csv lru 1gb -t \"time-col=2, obj-id-col=5, obj-size-col=4\"\n",
    "\n",
    "# if object id is numeric, then we can pass obj-id-is-num=true to speed up\n",
    "./cachesim ../data/trace.csv csv lru 1gb -t \"time-col=2, obj-id-col=5, obj-size-col=4, obj-id-is-num=true\"\n",
    "\n",
    "\n",
    "# note that csv trace does not support UTF-8 encoding, only ASCII encoding is supported\n",
    "./cachesim ../data/trace.csv csv lru 1gb -t \"time-col=2, obj-id-col=5, obj-size-col=4, delimiter=,, has-header=true\"\n",
    "```\n",
    "\n",
    "Besides csv trace, we also support txt trace and binary trace. \n",
    "```bash\n",
    "# txt trace is a simple format that stores obj-id in each line\n",
    "./cachesim ../data/trace.txt txt lru 1gb\n",
    "\n",
    "# binary trace, format is specified using format string similar to Python struct\n",
    "./cachesim ../data/trace.vscsi binary lru 1gb -t \"format=<IIIHHQQ,obj-id-col=6,obj-size-col=2\"\n",
    "\n",
    "# oracleGeneral is a binary format that stores time, obj-id, size, next-access-time (in reference count)\n",
    "./cachesim ../data/trace.oracleGeneral.bin oracleGeneral lru 1gb\n",
    "```\n",
    "**We recommend using binary trace because it can be a few times faster than csv trace and uses less DRAM resources.**\n",
    "\n",
    "\n",
    "\n",
    "## Advanced usage\n",
    "\n",
    "cachesim supports many advanced features, you can use `./cachesim --help` to get more information.\n",
    "Here we give some examples. \n",
    "\n",
    "### Setting parameters for eviction algorithms\n",
    "Some eviction algorithms have parameters, you can set the parameters by using `-e \"k1=v1,k2=v2\"` or `--eviction-params \"k1=v1,k2=v2\"` format.\n",
    "```bash\n",
    "# run SLRU with 4 segments\n",
    "./cachesim ../data/trace.vscsi vscsi slru 1gb -e n-seg=4\n",
    "\n",
    "# print the default parameters for SLRU\n",
    "./cachesim ../data/trace.vscsi vscsi slru 1gb -e print\n",
    "```\n",
    "\n",
    "\n",
    "### Admission algorithm\n",
    "cachesim supports the following admission algorithms: size, probabilistic, bloomFilter, adaptSize.\n",
    "You can use `-a` or `--admission` to set the admission algorithm. \n",
    "```bash\n",
    "# add a bloom filter to filter out objects on first access\n",
    "./cachesim ../data/trace.vscsi vscsi lru 1gb -a bloomFilter\n",
    "```\n",
    "\n",
    "### Prefetching algorithm\n",
    "cachesim supports the following prefetching algorithms: OBL, Mithril, PG (and AMP is on the way).\n",
    "You can use `-p` or `--prefetch` to set the prefetching algorithm. \n",
    "```bash\n",
    "# add a mithril to record object association information and fetch objects that are likely to be accessed in the future\n",
    "./cachesim ../data/trace.vscsi vscsi lru 1gb -p Mithril\n",
    "```\n",
    "\n",
    "### Advanced features \n",
    "```bash\n",
    "# change number of threads \n",
    "./cachesim ../data/trace.vscsi vscsi lru 1gb --num-thread=4\n",
    "\n",
    "# cap the number of requests read from the trace\n",
    "./cachesim ../data/trace.vscsi vscsi lru 1gb --num-req=1000000\n",
    "\n",
    "# change output \n",
    "./cachesim ../data/trace.vscsi vscsi lru 1gb -o my-output\n",
    "\n",
    "# ignore object size, each object has size one\n",
    "./cachesim ../data/trace.vscsi vscsi lru 1gb --ignore-obj-size=true\n",
    "\n",
    "# ignore object metadata size, different algorithms have different metadata size, this option will ignore the metadata size\n",
    "./cachesim ../data/trace.vscsi vscsi lru 1gb --consider-obj-metadata=false\n",
    "\n",
    "# use part of the trace to warm up the cache\n",
    "./cachesim ../data/trace.vscsi vscsi lru 1gb --warmup-sec=86400\n",
    "\n",
    "# Use TTL\n",
    "./cachesim ../data/trace.vscsi vscsi lru 1gb --use-ttl=true\n",
    "\n",
    "# Disable the print of the first few requests\n",
    "./cachesim ../data/trace.vscsi vscsi lru 1gb --print-head-req=false\n",
    "```\n",
    "\n"
   ]
  }
 ],
 "metadata": {
  "kernelspec": {
   "display_name": ".venv",
   "language": "python",
   "name": "python3"
  },
  "language_info": {
   "codemirror_mode": {
    "name": "ipython",
    "version": 3
   },
   "file_extension": ".py",
   "mimetype": "text/x-python",
   "name": "python",
   "nbconvert_exporter": "python",
   "pygments_lexer": "ipython3",
   "version": "3.10.12"
  }
 },
 "nbformat": 4,
 "nbformat_minor": 5
}
